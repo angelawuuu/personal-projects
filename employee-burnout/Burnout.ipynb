{
 "cells": [
  {
   "cell_type": "code",
   "execution_count": 1,
   "metadata": {},
   "outputs": [],
   "source": [
    "import pandas as pd\n",
    "import numpy as np\n",
    "import os\n",
    "import matplotlib.pyplot as plt\n",
    "import seaborn as sns\n",
    "import scipy.stats as stats\n",
    "\n",
    "\n",
    "from sklearn.preprocessing import OneHotEncoder\n",
    "from sklearn.tree import DecisionTreeRegressor\n",
    "from sklearn.model_selection import train_test_split, GridSearchCV\n",
    "from sklearn.metrics import r2_score, mean_squared_error, make_scorer\n",
    "from sklearn.svm import l1_min_c\n",
    "from sklearn.linear_model import LinearRegression\n",
    "from sklearn.ensemble import RandomForestRegressor, GradientBoostingRegressor"
   ]
  },
  {
   "cell_type": "markdown",
   "metadata": {},
   "source": [
    "### Load Data Sets"
   ]
  },
  {
   "cell_type": "code",
   "execution_count": 2,
   "metadata": {},
   "outputs": [],
   "source": [
    "filename = os.path.join(os.getcwd(), \"data\", \"stress_data.csv\")\n",
    "df = pd.read_csv(filename, header=0)"
   ]
  },
  {
   "cell_type": "markdown",
   "metadata": {},
   "source": [
    "### Problem Statement"
   ]
  },
  {
   "cell_type": "markdown",
   "metadata": {},
   "source": [
    "We will be predicting burnout based on healthcare worker data. A company that wants to improve quality of life for workers while still retaining efficiency may be interested in predicting how often their workers burn out, as burnout is directly related to less productivity. We can also use what the model predicts to not only signal when a worker is not as efficient, but also reveal what is necessary to help workers burn out less in the future. "
   ]
  },
  {
   "cell_type": "markdown",
   "metadata": {},
   "source": [
    "### Inspect Data"
   ]
  },
  {
   "cell_type": "markdown",
   "metadata": {},
   "source": [
    "Displays first 5 rows of dataframe"
   ]
  },
  {
   "cell_type": "code",
   "execution_count": 3,
   "metadata": {},
   "outputs": [
    {
     "data": {
      "text/html": [
       "<div>\n",
       "<style scoped>\n",
       "    .dataframe tbody tr th:only-of-type {\n",
       "        vertical-align: middle;\n",
       "    }\n",
       "\n",
       "    .dataframe tbody tr th {\n",
       "        vertical-align: top;\n",
       "    }\n",
       "\n",
       "    .dataframe thead th {\n",
       "        text-align: right;\n",
       "    }\n",
       "</style>\n",
       "<table border=\"1\" class=\"dataframe\">\n",
       "  <thead>\n",
       "    <tr style=\"text-align: right;\">\n",
       "      <th></th>\n",
       "      <th>EMPLOYEE ID</th>\n",
       "      <th>Hours Worked</th>\n",
       "      <th>Break Count</th>\n",
       "      <th>Break Time</th>\n",
       "      <th>Meals Eaten</th>\n",
       "      <th>Sleep</th>\n",
       "      <th>Stress</th>\n",
       "      <th>Fatigue</th>\n",
       "      <th>Efficiency</th>\n",
       "    </tr>\n",
       "  </thead>\n",
       "  <tbody>\n",
       "    <tr>\n",
       "      <th>0</th>\n",
       "      <td>1</td>\n",
       "      <td>76</td>\n",
       "      <td>4</td>\n",
       "      <td>15</td>\n",
       "      <td>2</td>\n",
       "      <td>6</td>\n",
       "      <td>8</td>\n",
       "      <td>8</td>\n",
       "      <td>3</td>\n",
       "    </tr>\n",
       "    <tr>\n",
       "      <th>1</th>\n",
       "      <td>1</td>\n",
       "      <td>81</td>\n",
       "      <td>3</td>\n",
       "      <td>10</td>\n",
       "      <td>2</td>\n",
       "      <td>5</td>\n",
       "      <td>9</td>\n",
       "      <td>9</td>\n",
       "      <td>2</td>\n",
       "    </tr>\n",
       "    <tr>\n",
       "      <th>2</th>\n",
       "      <td>1</td>\n",
       "      <td>71</td>\n",
       "      <td>5</td>\n",
       "      <td>20</td>\n",
       "      <td>2</td>\n",
       "      <td>7</td>\n",
       "      <td>7</td>\n",
       "      <td>7</td>\n",
       "      <td>4</td>\n",
       "    </tr>\n",
       "    <tr>\n",
       "      <th>3</th>\n",
       "      <td>1</td>\n",
       "      <td>71</td>\n",
       "      <td>5</td>\n",
       "      <td>20</td>\n",
       "      <td>2</td>\n",
       "      <td>7</td>\n",
       "      <td>7</td>\n",
       "      <td>7</td>\n",
       "      <td>4</td>\n",
       "    </tr>\n",
       "    <tr>\n",
       "      <th>4</th>\n",
       "      <td>1</td>\n",
       "      <td>76</td>\n",
       "      <td>4</td>\n",
       "      <td>15</td>\n",
       "      <td>2</td>\n",
       "      <td>6</td>\n",
       "      <td>8</td>\n",
       "      <td>8</td>\n",
       "      <td>3</td>\n",
       "    </tr>\n",
       "  </tbody>\n",
       "</table>\n",
       "</div>"
      ],
      "text/plain": [
       "   EMPLOYEE ID  Hours Worked   Break Count  Break Time  Meals Eaten  Sleep  \\\n",
       "0            1             76            4          15            2      6   \n",
       "1            1             81            3          10            2      5   \n",
       "2            1             71            5          20            2      7   \n",
       "3            1             71            5          20            2      7   \n",
       "4            1             76            4          15            2      6   \n",
       "\n",
       "   Stress  Fatigue  Efficiency  \n",
       "0       8        8           3  \n",
       "1       9        9           2  \n",
       "2       7        7           4  \n",
       "3       7        7           4  \n",
       "4       8        8           3  "
      ]
     },
     "execution_count": 3,
     "metadata": {},
     "output_type": "execute_result"
    }
   ],
   "source": [
    "df.head()"
   ]
  },
  {
   "cell_type": "code",
   "execution_count": 4,
   "metadata": {},
   "outputs": [
    {
     "name": "stdout",
     "output_type": "stream",
     "text": [
      "number of rows: 1299\n",
      "number of cols: 9\n"
     ]
    }
   ],
   "source": [
    "print(\"number of rows:\", df.shape[0])\n",
    "print(\"number of cols:\", df.shape[1])"
   ]
  },
  {
   "cell_type": "markdown",
   "metadata": {},
   "source": [
    "Displays count, mean, std, and min/max of each column"
   ]
  },
  {
   "cell_type": "code",
   "execution_count": 5,
   "metadata": {},
   "outputs": [
    {
     "data": {
      "text/html": [
       "<div>\n",
       "<style scoped>\n",
       "    .dataframe tbody tr th:only-of-type {\n",
       "        vertical-align: middle;\n",
       "    }\n",
       "\n",
       "    .dataframe tbody tr th {\n",
       "        vertical-align: top;\n",
       "    }\n",
       "\n",
       "    .dataframe thead th {\n",
       "        text-align: right;\n",
       "    }\n",
       "</style>\n",
       "<table border=\"1\" class=\"dataframe\">\n",
       "  <thead>\n",
       "    <tr style=\"text-align: right;\">\n",
       "      <th></th>\n",
       "      <th>EMPLOYEE ID</th>\n",
       "      <th>Hours Worked</th>\n",
       "      <th>Break Count</th>\n",
       "      <th>Break Time</th>\n",
       "      <th>Meals Eaten</th>\n",
       "      <th>Sleep</th>\n",
       "      <th>Stress</th>\n",
       "      <th>Fatigue</th>\n",
       "      <th>Efficiency</th>\n",
       "    </tr>\n",
       "  </thead>\n",
       "  <tbody>\n",
       "    <tr>\n",
       "      <th>count</th>\n",
       "      <td>1299.000000</td>\n",
       "      <td>1299.000000</td>\n",
       "      <td>1299.000000</td>\n",
       "      <td>1299.000000</td>\n",
       "      <td>1299.000000</td>\n",
       "      <td>1299.000000</td>\n",
       "      <td>1299.000000</td>\n",
       "      <td>1299.000000</td>\n",
       "      <td>1299.000000</td>\n",
       "    </tr>\n",
       "    <tr>\n",
       "      <th>mean</th>\n",
       "      <td>6.767513</td>\n",
       "      <td>55.327175</td>\n",
       "      <td>2.779061</td>\n",
       "      <td>18.475751</td>\n",
       "      <td>2.327175</td>\n",
       "      <td>6.080831</td>\n",
       "      <td>5.887606</td>\n",
       "      <td>6.234026</td>\n",
       "      <td>5.698999</td>\n",
       "    </tr>\n",
       "    <tr>\n",
       "      <th>std</th>\n",
       "      <td>4.137635</td>\n",
       "      <td>14.775045</td>\n",
       "      <td>1.560192</td>\n",
       "      <td>8.447791</td>\n",
       "      <td>0.660316</td>\n",
       "      <td>1.660405</td>\n",
       "      <td>2.843584</td>\n",
       "      <td>2.652274</td>\n",
       "      <td>2.536226</td>\n",
       "    </tr>\n",
       "    <tr>\n",
       "      <th>min</th>\n",
       "      <td>1.000000</td>\n",
       "      <td>25.000000</td>\n",
       "      <td>1.000000</td>\n",
       "      <td>5.000000</td>\n",
       "      <td>1.000000</td>\n",
       "      <td>2.000000</td>\n",
       "      <td>1.000000</td>\n",
       "      <td>1.000000</td>\n",
       "      <td>1.000000</td>\n",
       "    </tr>\n",
       "    <tr>\n",
       "      <th>25%</th>\n",
       "      <td>3.000000</td>\n",
       "      <td>45.000000</td>\n",
       "      <td>2.000000</td>\n",
       "      <td>10.000000</td>\n",
       "      <td>2.000000</td>\n",
       "      <td>5.000000</td>\n",
       "      <td>3.000000</td>\n",
       "      <td>4.000000</td>\n",
       "      <td>4.000000</td>\n",
       "    </tr>\n",
       "    <tr>\n",
       "      <th>50%</th>\n",
       "      <td>6.000000</td>\n",
       "      <td>55.000000</td>\n",
       "      <td>3.000000</td>\n",
       "      <td>20.000000</td>\n",
       "      <td>2.000000</td>\n",
       "      <td>6.000000</td>\n",
       "      <td>6.000000</td>\n",
       "      <td>7.000000</td>\n",
       "      <td>6.000000</td>\n",
       "    </tr>\n",
       "    <tr>\n",
       "      <th>75%</th>\n",
       "      <td>10.000000</td>\n",
       "      <td>65.000000</td>\n",
       "      <td>4.000000</td>\n",
       "      <td>25.000000</td>\n",
       "      <td>3.000000</td>\n",
       "      <td>7.000000</td>\n",
       "      <td>8.000000</td>\n",
       "      <td>9.000000</td>\n",
       "      <td>8.000000</td>\n",
       "    </tr>\n",
       "    <tr>\n",
       "      <th>max</th>\n",
       "      <td>14.000000</td>\n",
       "      <td>90.000000</td>\n",
       "      <td>8.000000</td>\n",
       "      <td>35.000000</td>\n",
       "      <td>3.000000</td>\n",
       "      <td>9.000000</td>\n",
       "      <td>10.000000</td>\n",
       "      <td>10.000000</td>\n",
       "      <td>10.000000</td>\n",
       "    </tr>\n",
       "  </tbody>\n",
       "</table>\n",
       "</div>"
      ],
      "text/plain": [
       "       EMPLOYEE ID  Hours Worked   Break Count   Break Time  Meals Eaten  \\\n",
       "count  1299.000000    1299.000000  1299.000000  1299.000000  1299.000000   \n",
       "mean      6.767513      55.327175     2.779061    18.475751     2.327175   \n",
       "std       4.137635      14.775045     1.560192     8.447791     0.660316   \n",
       "min       1.000000      25.000000     1.000000     5.000000     1.000000   \n",
       "25%       3.000000      45.000000     2.000000    10.000000     2.000000   \n",
       "50%       6.000000      55.000000     3.000000    20.000000     2.000000   \n",
       "75%      10.000000      65.000000     4.000000    25.000000     3.000000   \n",
       "max      14.000000      90.000000     8.000000    35.000000     3.000000   \n",
       "\n",
       "             Sleep       Stress      Fatigue   Efficiency  \n",
       "count  1299.000000  1299.000000  1299.000000  1299.000000  \n",
       "mean      6.080831     5.887606     6.234026     5.698999  \n",
       "std       1.660405     2.843584     2.652274     2.536226  \n",
       "min       2.000000     1.000000     1.000000     1.000000  \n",
       "25%       5.000000     3.000000     4.000000     4.000000  \n",
       "50%       6.000000     6.000000     7.000000     6.000000  \n",
       "75%       7.000000     8.000000     9.000000     8.000000  \n",
       "max       9.000000    10.000000    10.000000    10.000000  "
      ]
     },
     "execution_count": 5,
     "metadata": {},
     "output_type": "execute_result"
    }
   ],
   "source": [
    "df.describe(include='all')"
   ]
  },
  {
   "cell_type": "markdown",
   "metadata": {},
   "source": [
    "Each column's datatype"
   ]
  },
  {
   "cell_type": "code",
   "execution_count": 6,
   "metadata": {},
   "outputs": [
    {
     "data": {
      "text/plain": [
       "EMPLOYEE ID      int64\n",
       "Hours Worked     int64\n",
       "Break Count      int64\n",
       "Break Time       int64\n",
       "Meals Eaten      int64\n",
       "Sleep            int64\n",
       "Stress           int64\n",
       "Fatigue          int64\n",
       "Efficiency       int64\n",
       "dtype: object"
      ]
     },
     "execution_count": 6,
     "metadata": {},
     "output_type": "execute_result"
    }
   ],
   "source": [
    "df.dtypes"
   ]
  },
  {
   "cell_type": "markdown",
   "metadata": {},
   "source": [
    "Here we used a formula to calculate burnout. Our values for stress and fatigue are negative and weighted by 0.75 while our values for efficiency are positive and weighted by 1."
   ]
  },
  {
   "cell_type": "code",
   "execution_count": 7,
   "metadata": {},
   "outputs": [],
   "source": [
    "df['Burnout'] = -0.75 * df['Stress'] + -0.75 * df['Fatigue'] + df['Efficiency']\n",
    "df.drop(columns=['Stress', 'Fatigue', 'Efficiency'], inplace=True)\n",
    "label = 'Burnout'"
   ]
  },
  {
   "cell_type": "code",
   "execution_count": 8,
   "metadata": {},
   "outputs": [
    {
     "data": {
      "text/html": [
       "<div>\n",
       "<style scoped>\n",
       "    .dataframe tbody tr th:only-of-type {\n",
       "        vertical-align: middle;\n",
       "    }\n",
       "\n",
       "    .dataframe tbody tr th {\n",
       "        vertical-align: top;\n",
       "    }\n",
       "\n",
       "    .dataframe thead th {\n",
       "        text-align: right;\n",
       "    }\n",
       "</style>\n",
       "<table border=\"1\" class=\"dataframe\">\n",
       "  <thead>\n",
       "    <tr style=\"text-align: right;\">\n",
       "      <th></th>\n",
       "      <th>EMPLOYEE ID</th>\n",
       "      <th>Hours Worked</th>\n",
       "      <th>Break Count</th>\n",
       "      <th>Break Time</th>\n",
       "      <th>Meals Eaten</th>\n",
       "      <th>Sleep</th>\n",
       "      <th>Burnout</th>\n",
       "    </tr>\n",
       "  </thead>\n",
       "  <tbody>\n",
       "    <tr>\n",
       "      <th>0</th>\n",
       "      <td>1</td>\n",
       "      <td>76</td>\n",
       "      <td>4</td>\n",
       "      <td>15</td>\n",
       "      <td>2</td>\n",
       "      <td>6</td>\n",
       "      <td>-9.0</td>\n",
       "    </tr>\n",
       "    <tr>\n",
       "      <th>1</th>\n",
       "      <td>1</td>\n",
       "      <td>81</td>\n",
       "      <td>3</td>\n",
       "      <td>10</td>\n",
       "      <td>2</td>\n",
       "      <td>5</td>\n",
       "      <td>-11.5</td>\n",
       "    </tr>\n",
       "    <tr>\n",
       "      <th>2</th>\n",
       "      <td>1</td>\n",
       "      <td>71</td>\n",
       "      <td>5</td>\n",
       "      <td>20</td>\n",
       "      <td>2</td>\n",
       "      <td>7</td>\n",
       "      <td>-6.5</td>\n",
       "    </tr>\n",
       "    <tr>\n",
       "      <th>3</th>\n",
       "      <td>1</td>\n",
       "      <td>71</td>\n",
       "      <td>5</td>\n",
       "      <td>20</td>\n",
       "      <td>2</td>\n",
       "      <td>7</td>\n",
       "      <td>-6.5</td>\n",
       "    </tr>\n",
       "    <tr>\n",
       "      <th>4</th>\n",
       "      <td>1</td>\n",
       "      <td>76</td>\n",
       "      <td>4</td>\n",
       "      <td>15</td>\n",
       "      <td>2</td>\n",
       "      <td>6</td>\n",
       "      <td>-9.0</td>\n",
       "    </tr>\n",
       "  </tbody>\n",
       "</table>\n",
       "</div>"
      ],
      "text/plain": [
       "   EMPLOYEE ID  Hours Worked   Break Count  Break Time  Meals Eaten  Sleep  \\\n",
       "0            1             76            4          15            2      6   \n",
       "1            1             81            3          10            2      5   \n",
       "2            1             71            5          20            2      7   \n",
       "3            1             71            5          20            2      7   \n",
       "4            1             76            4          15            2      6   \n",
       "\n",
       "   Burnout  \n",
       "0     -9.0  \n",
       "1    -11.5  \n",
       "2     -6.5  \n",
       "3     -6.5  \n",
       "4     -9.0  "
      ]
     },
     "execution_count": 8,
     "metadata": {},
     "output_type": "execute_result"
    }
   ],
   "source": [
    "df.head()"
   ]
  },
  {
   "cell_type": "markdown",
   "metadata": {},
   "source": [
    "We create labeled examples and then split the examples into training and test sets."
   ]
  },
  {
   "cell_type": "code",
   "execution_count": 9,
   "metadata": {},
   "outputs": [],
   "source": [
    "# Create labeled examples\n",
    "y = df[label]\n",
    "X = df.drop(columns=['EMPLOYEE ID', label], axis=1)\n",
    "\n",
    "# Split examples into training and test sets\n",
    "X_train, X_test, y_train, y_test = train_test_split(X, y, test_size=0.30, random_state=123)"
   ]
  },
  {
   "cell_type": "markdown",
   "metadata": {},
   "source": [
    "### Checking for Null Values\n",
    "\n",
    "Due to the constraints of our google form, people who chose to answer had to answer all parts which resulted in 0 null values for each category. If people choose not to answer certain questions, we can check for null values using another function but in this case it was unnecessary."
   ]
  },
  {
   "cell_type": "code",
   "execution_count": 10,
   "metadata": {},
   "outputs": [
    {
     "data": {
      "text/plain": [
       "EMPLOYEE ID      0\n",
       "Hours Worked     0\n",
       "Break Count      0\n",
       "Break Time       0\n",
       "Meals Eaten      0\n",
       "Sleep            0\n",
       "Burnout          0\n",
       "dtype: int64"
      ]
     },
     "execution_count": 10,
     "metadata": {},
     "output_type": "execute_result"
    }
   ],
   "source": [
    "df.isnull().sum()"
   ]
  },
  {
   "cell_type": "markdown",
   "metadata": {},
   "source": [
    "### Training Model on Aggregate Data"
   ]
  },
  {
   "cell_type": "code",
   "execution_count": 11,
   "metadata": {},
   "outputs": [
    {
     "name": "stdout",
     "output_type": "stream",
     "text": [
      "[LR] R2 Score: 0.9851770177364944\n",
      "[LR] RMSE: 0.7698930152619692\n"
     ]
    }
   ],
   "source": [
    "# Train model\n",
    "lr_model = GradientBoostingRegressor()\n",
    "lr_model.fit(X_train, y_train)\n",
    "\n",
    "# Evaluate model\n",
    "lr_pred = lr_model.predict(X_test)\n",
    "lr_r2_score = r2_score(lr_pred, y_test)\n",
    "print('[LR] R2 Score: {0}'.format(lr_r2_score))\n",
    "lr_rmse = mean_squared_error(y_test, lr_pred, squared=False)\n",
    "print('[LR] RMSE: {0}'.format(lr_rmse))"
   ]
  },
  {
   "cell_type": "markdown",
   "metadata": {},
   "source": [
    "R2 Score closer to 1 is good, goes from 0 to 1\n",
    "RMSE: on average, predictions are off by 1.07 -- not bad considering scale of 1-10"
   ]
  },
  {
   "cell_type": "markdown",
   "metadata": {},
   "source": [
    "### Create Employee's Individual Models"
   ]
  },
  {
   "cell_type": "markdown",
   "metadata": {},
   "source": [
    "We want to provide suggestions tailored to each individual employee based on their historical data rather than aggregating all employee's data. We recognize that each person is unique and experiences burnout under different circumstances. Thus, we trained unique models for each of the employees based on their employee IDs."
   ]
  },
  {
   "cell_type": "code",
   "execution_count": 12,
   "metadata": {},
   "outputs": [],
   "source": [
    "def createModel(employee, minExamples=300):\n",
    "    # Create labeled examples\n",
    "    df_emp = df[df['EMPLOYEE ID'] == employee]\n",
    "    numExamples = df_emp.shape[0]\n",
    "    if minExamples > df_emp.shape[0]:\n",
    "        diff = minExamples - df_emp.shape[0]\n",
    "        df_notEmp = df[df['EMPLOYEE ID'] != employee]\n",
    "        df_notEmp = df_notEmp.sample(min(diff, df_notEmp.shape[0]))\n",
    "        df_emp = pd.concat([df_emp, df_notEmp])\n",
    "    y = df_emp[label]\n",
    "    X = df_emp.drop(columns=['EMPLOYEE ID', label], axis=1)\n",
    "\n",
    "    # Split examples into training and test sets\n",
    "    X_train, X_test, y_train, y_test = train_test_split(X, y, test_size=0.30, random_state=123)\n",
    "    # Train model\n",
    "    lr_model = GradientBoostingRegressor()\n",
    "    lr_model.fit(X_train, y_train)\n",
    "\n",
    "    # Evaluate model\n",
    "    print('\\nModel for Employee {0}: {1} data entries'.format(employee, numExamples))\n",
    "    lr_pred = lr_model.predict(X_test)\n",
    "    lr_r2_score = r2_score(lr_pred, y_test)\n",
    "    print('[LR] R2 Score: {0}'.format(lr_r2_score))\n",
    "    lr_rmse = mean_squared_error(y_test, lr_pred, squared=False)\n",
    "    print('[LR] RMSE: {0}'.format(lr_rmse))\n",
    "    \n",
    "    return lr_model"
   ]
  },
  {
   "cell_type": "code",
   "execution_count": 13,
   "metadata": {},
   "outputs": [
    {
     "data": {
      "text/plain": [
       "array([ 1,  2,  3,  4,  5,  6,  7,  8,  9, 10, 11, 12, 13, 14])"
      ]
     },
     "execution_count": 13,
     "metadata": {},
     "output_type": "execute_result"
    }
   ],
   "source": [
    "employees = df['EMPLOYEE ID'].unique()\n",
    "employees"
   ]
  },
  {
   "cell_type": "code",
   "execution_count": 14,
   "metadata": {},
   "outputs": [
    {
     "name": "stdout",
     "output_type": "stream",
     "text": [
      "\n",
      "Model for Employee 1: 100 data entries\n",
      "[LR] R2 Score: 0.9689638712227662\n",
      "[LR] RMSE: 1.0891519084280306\n",
      "\n",
      "Model for Employee 2: 100 data entries\n",
      "[LR] R2 Score: 0.8979683388800588\n",
      "[LR] RMSE: 1.6949063087111056\n",
      "\n",
      "Model for Employee 3: 150 data entries\n",
      "[LR] R2 Score: 0.9616115330599839\n",
      "[LR] RMSE: 1.0774196682563026\n",
      "\n",
      "Model for Employee 4: 200 data entries\n",
      "[LR] R2 Score: 0.7637063913730429\n",
      "[LR] RMSE: 2.7443958065517835\n",
      "\n",
      "Model for Employee 5: 50 data entries\n",
      "[LR] R2 Score: 0.9767741825829052\n",
      "[LR] RMSE: 0.9428885210302658\n",
      "\n",
      "Model for Employee 6: 100 data entries\n",
      "[LR] R2 Score: 0.9346266711766171\n",
      "[LR] RMSE: 1.5905344424039514\n",
      "\n",
      "Model for Employee 7: 99 data entries\n",
      "[LR] R2 Score: 0.9362184022778915\n",
      "[LR] RMSE: 1.5227218735225827\n",
      "\n",
      "Model for Employee 8: 51 data entries\n",
      "[LR] R2 Score: 0.9686507430213107\n",
      "[LR] RMSE: 1.1897135684484024\n",
      "\n",
      "Model for Employee 9: 50 data entries\n",
      "[LR] R2 Score: 0.980880638688502\n",
      "[LR] RMSE: 0.7823413346739603\n",
      "\n",
      "Model for Employee 10: 99 data entries\n",
      "[LR] R2 Score: 0.9480437003974592\n",
      "[LR] RMSE: 1.382473348965777\n",
      "\n",
      "Model for Employee 11: 50 data entries\n",
      "[LR] R2 Score: 0.9668449182059213\n",
      "[LR] RMSE: 1.0833309704496943\n",
      "\n",
      "Model for Employee 12: 50 data entries\n",
      "[LR] R2 Score: 0.9851681622186363\n",
      "[LR] RMSE: 0.7447508713065203\n",
      "\n",
      "Model for Employee 13: 100 data entries\n",
      "[LR] R2 Score: 0.9809625722598844\n",
      "[LR] RMSE: 0.8352184165273846\n",
      "\n",
      "Model for Employee 14: 100 data entries\n",
      "[LR] R2 Score: 0.9585584153251233\n",
      "[LR] RMSE: 1.1573905285542825\n"
     ]
    }
   ],
   "source": [
    "emp_models = {emp:createModel(emp) for emp in employees}"
   ]
  },
  {
   "cell_type": "code",
   "execution_count": 15,
   "metadata": {},
   "outputs": [
    {
     "data": {
      "text/plain": [
       "Index(['EMPLOYEE ID', 'Hours Worked ', 'Break Count', 'Break Time',\n",
       "       'Meals Eaten', 'Sleep', 'Burnout'],\n",
       "      dtype='object')"
      ]
     },
     "execution_count": 15,
     "metadata": {},
     "output_type": "execute_result"
    }
   ],
   "source": [
    "df.columns"
   ]
  },
  {
   "cell_type": "code",
   "execution_count": 16,
   "metadata": {},
   "outputs": [
    {
     "data": {
      "text/plain": [
       "Index(['Hours Worked ', 'Break Count', 'Break Time', 'Meals Eaten', 'Sleep'], dtype='object')"
      ]
     },
     "execution_count": 16,
     "metadata": {},
     "output_type": "execute_result"
    }
   ],
   "source": [
    "features = df.columns[1:-1]\n",
    "features"
   ]
  },
  {
   "cell_type": "markdown",
   "metadata": {},
   "source": [
    "We also set a possible range of values that our model is restricted by realism. This prevents the model from returning answers such as \"work 0 hours for less burnout\" or \"Take 3 hour long breaks for less burnout\""
   ]
  },
  {
   "cell_type": "code",
   "execution_count": 17,
   "metadata": {},
   "outputs": [],
   "source": [
    "possible_values = {'Hours Worked ': list(range(20,80)),\n",
    "                  'Break Count': list(range(0, 10)),\n",
    "                  'Break Time': list(range(5,60)),\n",
    "                  'Meals Eaten': list(range(1,5)),\n",
    "                  'Sleep': list(range(5,10))}"
   ]
  },
  {
   "cell_type": "markdown",
   "metadata": {},
   "source": [
    "Here is the function that is used to get the optimal params for each unique employee"
   ]
  },
  {
   "cell_type": "code",
   "execution_count": 18,
   "metadata": {},
   "outputs": [],
   "source": [
    "def getOptimalParams(employee):\n",
    "    pv = possible_values\n",
    "    emp_model = createModel(employee)\n",
    "    combos = []\n",
    "    for h in pv['Hours Worked ']:\n",
    "        for bc in pv['Break Count']:\n",
    "            for bt in pv['Break Time']:\n",
    "                for m in pv['Meals Eaten']:\n",
    "                    for s in pv['Sleep']:\n",
    "                        combos.append([h, bc, bt, m, s])\n",
    "    X_test = pd.DataFrame(np.array(combos), columns=features)\n",
    "    emp_pred = emp_model.predict(X_test)\n",
    "    return combos[np.argmax(emp_pred)], np.max(emp_pred)"
   ]
  },
  {
   "cell_type": "markdown",
   "metadata": {},
   "source": [
    "An example of the optimal parameters of employee 1:"
   ]
  },
  {
   "cell_type": "code",
   "execution_count": 19,
   "metadata": {},
   "outputs": [
    {
     "name": "stdout",
     "output_type": "stream",
     "text": [
      "\n",
      "Model for Employee 1: 100 data entries\n",
      "[LR] R2 Score: 0.9559352717096689\n",
      "[LR] RMSE: 1.3680281235404699\n",
      "\n",
      "Hours Worked: 20\n",
      "Break Count: 0\n",
      "Break Time: 26\n",
      "Meals Eaten: 3\n",
      "Sleep: 8\n",
      "Optimal Burnout Rate: 11.846444785604039\n"
     ]
    }
   ],
   "source": [
    "opt_params = getOptimalParams(1)\n",
    "print()\n",
    "print(\"Hours Worked:\", opt_params[0][0])\n",
    "print(\"Break Count:\", opt_params[0][1])\n",
    "print(\"Break Time:\", opt_params[0][2])\n",
    "print(\"Meals Eaten:\", opt_params[0][3])\n",
    "print(\"Sleep:\", opt_params[0][4])\n",
    "print(\"Optimal Burnout Rate:\", opt_params[1])"
   ]
  },
  {
   "cell_type": "markdown",
   "metadata": {},
   "source": [
    "We now get all the params for all employees"
   ]
  },
  {
   "cell_type": "code",
   "execution_count": 20,
   "metadata": {},
   "outputs": [
    {
     "name": "stdout",
     "output_type": "stream",
     "text": [
      "\n",
      "Model for Employee 1: 100 data entries\n",
      "[LR] R2 Score: 0.9557265761053555\n",
      "[LR] RMSE: 1.3318225316381371\n",
      "\n",
      "Model for Employee 2: 100 data entries\n",
      "[LR] R2 Score: 0.9846193030792276\n",
      "[LR] RMSE: 0.6913664351931893\n",
      "\n",
      "Model for Employee 3: 150 data entries\n",
      "[LR] R2 Score: 0.8478223636366088\n",
      "[LR] RMSE: 1.8975253073080702\n",
      "\n",
      "Model for Employee 4: 200 data entries\n",
      "[LR] R2 Score: 0.7881780027682941\n",
      "[LR] RMSE: 2.5260001015642297\n",
      "\n",
      "Model for Employee 5: 50 data entries\n",
      "[LR] R2 Score: 0.9619082227670939\n",
      "[LR] RMSE: 1.3429232070256212\n",
      "\n",
      "Model for Employee 6: 100 data entries\n",
      "[LR] R2 Score: 0.9689567175425451\n",
      "[LR] RMSE: 1.0054762903357657\n",
      "\n",
      "Model for Employee 7: 99 data entries\n",
      "[LR] R2 Score: 0.9043622646651316\n",
      "[LR] RMSE: 1.5208440583033216\n",
      "\n",
      "Model for Employee 8: 51 data entries\n",
      "[LR] R2 Score: 0.9672843165473466\n",
      "[LR] RMSE: 1.146490017734613\n",
      "\n",
      "Model for Employee 9: 50 data entries\n",
      "[LR] R2 Score: 0.9671220436477412\n",
      "[LR] RMSE: 1.06552886228404\n",
      "\n",
      "Model for Employee 10: 99 data entries\n",
      "[LR] R2 Score: 0.9738317222680178\n",
      "[LR] RMSE: 1.0402904383463916\n",
      "\n",
      "Model for Employee 11: 50 data entries\n",
      "[LR] R2 Score: 0.964622198085092\n",
      "[LR] RMSE: 1.234653532618124\n",
      "\n",
      "Model for Employee 12: 50 data entries\n",
      "[LR] R2 Score: 0.9806851261963724\n",
      "[LR] RMSE: 0.8080989867916343\n",
      "\n",
      "Model for Employee 13: 100 data entries\n",
      "[LR] R2 Score: 0.9607162858246059\n",
      "[LR] RMSE: 1.1320040225018169\n",
      "\n",
      "Model for Employee 14: 100 data entries\n",
      "[LR] R2 Score: 0.9478597029910831\n",
      "[LR] RMSE: 1.3307349117058058\n"
     ]
    },
    {
     "data": {
      "text/plain": [
       "[([20, 0, 23, 3, 9], 11.176158317934997),\n",
       " ([20, 2, 18, 3, 7], 8.618765736233716),\n",
       " ([59, 0, 23, 1, 9], 8.562606913985196),\n",
       " ([20, 3, 13, 3, 7], 8.242013482990263),\n",
       " ([20, 0, 13, 1, 9], 11.109755054575864),\n",
       " ([20, 0, 5, 3, 5], 11.16228605459981),\n",
       " ([56, 0, 8, 1, 9], 10.618398212254684),\n",
       " ([28, 0, 8, 3, 7], 10.978187192450994),\n",
       " ([42, 0, 23, 2, 9], 10.69853620232555),\n",
       " ([28, 0, 5, 3, 7], 11.206327263034588),\n",
       " ([20, 0, 5, 3, 5], 10.34613319941862),\n",
       " ([20, 0, 23, 3, 9], 12.120041261384008),\n",
       " ([54, 0, 23, 2, 9], 11.274446401446836),\n",
       " ([20, 4, 23, 2, 9], 10.922298563504855)]"
      ]
     },
     "execution_count": 20,
     "metadata": {},
     "output_type": "execute_result"
    }
   ],
   "source": [
    "finData = [getOptimalParams(emp) for emp in employees]\n",
    "\n",
    "finData"
   ]
  },
  {
   "cell_type": "code",
   "execution_count": 22,
   "metadata": {},
   "outputs": [],
   "source": [
    "def getFeatureImportances(top_num):\n",
    "    # Create labeled examples\n",
    "    y = df[label]\n",
    "    X = df.drop(columns=['EMPLOYEE ID', label], axis=1)\n",
    "\n",
    "    # Split examples into training and test sets\n",
    "    X_train, X_test, y_train, y_test = train_test_split(X, y, test_size=0.20, random_state=123)\n",
    "    \n",
    "    # Perform model selection\n",
    "    param_grid = {'max_depth':list(range(5,9)), 'min_samples_leaf':list(range(25, 51))}\n",
    "    model = DecisionTreeRegressor()\n",
    "    grid = GridSearchCV(model, param_grid, cv=3, scoring=make_scorer(r2_score))\n",
    "    grid_search = grid.fit(X_train, y_train)\n",
    "    best_params = {'max_depth':grid_search.best_estimator_.max_depth, 'min_samples_leaf':grid_search.best_estimator_.min_samples_leaf}\n",
    "    print('The best params for the model is :', best_params)\n",
    "    r2 = grid_search.best_score_\n",
    "    print('R2 Score for the best model is : {:.2f}'.format(r2))\n",
    "\n",
    "    # Train the model\n",
    "    feature_select_model = DecisionTreeRegressor(max_depth = best_params['max_depth'], min_samples_leaf = best_params['min_samples_leaf'])\n",
    "    feature_select_model.fit(X_train, y_train)\n",
    "\n",
    "    # Plot feature importances\n",
    "    feature_imp = feature_select_model.feature_importances_\n",
    "    df_features = pd.DataFrame({'name': X_train.columns.values, 'imp': feature_imp})\n",
    "    df_sorted = df_features.sort_values('imp', ascending=False)\n",
    "    top = list(df_sorted.iloc[0:top_num]['name'])\n",
    "    fig, ax = plt.subplots()\n",
    "    ax.bar(np.arange(top_num), sorted(feature_select_model.feature_importances_, reverse=True)[:top_num], width = 0.35)\n",
    "    ax.set_xticks(np.arange(top_num))\n",
    "    ax.set_xticklabels(top, rotation = 90)\n",
    "    plt.title('Feature importance from DT')\n",
    "    ax.set_ylabel('Normalized importance')\n",
    "    return df_sorted.head(top_num)"
   ]
  },
  {
   "cell_type": "code",
   "execution_count": 23,
   "metadata": {},
   "outputs": [
    {
     "name": "stdout",
     "output_type": "stream",
     "text": [
      "The best params for the model is : {'max_depth': 8, 'min_samples_leaf': 25}\n",
      "R2 Score for the best model is : 0.87\n"
     ]
    },
    {
     "data": {
      "text/html": [
       "<div>\n",
       "<style scoped>\n",
       "    .dataframe tbody tr th:only-of-type {\n",
       "        vertical-align: middle;\n",
       "    }\n",
       "\n",
       "    .dataframe tbody tr th {\n",
       "        vertical-align: top;\n",
       "    }\n",
       "\n",
       "    .dataframe thead th {\n",
       "        text-align: right;\n",
       "    }\n",
       "</style>\n",
       "<table border=\"1\" class=\"dataframe\">\n",
       "  <thead>\n",
       "    <tr style=\"text-align: right;\">\n",
       "      <th></th>\n",
       "      <th>name</th>\n",
       "      <th>imp</th>\n",
       "    </tr>\n",
       "  </thead>\n",
       "  <tbody>\n",
       "    <tr>\n",
       "      <th>4</th>\n",
       "      <td>Sleep</td>\n",
       "      <td>0.538207</td>\n",
       "    </tr>\n",
       "    <tr>\n",
       "      <th>0</th>\n",
       "      <td>Hours Worked</td>\n",
       "      <td>0.244180</td>\n",
       "    </tr>\n",
       "    <tr>\n",
       "      <th>1</th>\n",
       "      <td>Break Count</td>\n",
       "      <td>0.205575</td>\n",
       "    </tr>\n",
       "  </tbody>\n",
       "</table>\n",
       "</div>"
      ],
      "text/plain": [
       "            name       imp\n",
       "4          Sleep  0.538207\n",
       "0  Hours Worked   0.244180\n",
       "1    Break Count  0.205575"
      ]
     },
     "execution_count": 23,
     "metadata": {},
     "output_type": "execute_result"
    },
    {
     "data": {
      "image/png": "[encoded data removed]",
      "text/plain": [
       "<Figure size 432x288 with 1 Axes>"
      ]
     },
     "metadata": {
      "needs_background": "light"
     },
     "output_type": "display_data"
    }
   ],
   "source": [
    "df_imp = getFeatureImportances(3)\n",
    "df_imp"
   ]
  },
  {
   "cell_type": "code",
   "execution_count": 36,
   "metadata": {},
   "outputs": [
    {
     "data": {
      "image/png": "[encoded data removed]",
      "text/plain": [
       "<Figure size 432x288 with 1 Axes>"
      ]
     },
     "metadata": {
      "needs_background": "light"
     },
     "output_type": "display_data"
    }
   ],
   "source": [
    "plt.bar(df['Sleep'], df[label])\n",
    "plt.title('Sleep vs Burnout')\n",
    "\n",
    "plt.xlabel('Hours Worked')\n",
    "\n",
    "plt.ylabel('Sleep')\n",
    "plt.show()"
   ]
  },
  {
   "cell_type": "code",
   "execution_count": 37,
   "metadata": {},
   "outputs": [
    {
     "data": {
      "image/png": "[encoded data removed]",
      "text/plain": [
       "<Figure size 432x288 with 1 Axes>"
      ]
     },
     "metadata": {
      "needs_background": "light"
     },
     "output_type": "display_data"
    }
   ],
   "source": [
    "plt.bar(df['Hours Worked '], df[label])\n",
    "plt.title('Hours Worked vs Burnout')\n",
    "\n",
    "plt.xlabel('Hours Worked')\n",
    "\n",
    "plt.ylabel('Burnout')\n",
    "plt.show()"
   ]
  },
  {
   "cell_type": "code",
   "execution_count": 39,
   "metadata": {},
   "outputs": [
    {
     "data": {
      "image/png": "[encoded data removed]",
      "text/plain": [
       "<Figure size 432x288 with 1 Axes>"
      ]
     },
     "metadata": {
      "needs_background": "light"
     },
     "output_type": "display_data"
    }
   ],
   "source": [
    "plt.scatter(df['Break Count'], df[label])\n",
    "plt.title('Break Frequency vs Burnout')\n",
    "\n",
    "plt.xlabel('Break Frequency')\n",
    "\n",
    "plt.ylabel('Burnout')\n",
    "plt.show()"
   ]
  },
  {
   "cell_type": "code",
   "execution_count": null,
   "metadata": {},
   "outputs": [],
   "source": []
  }
 ],
 "metadata": {
  "kernelspec": {
   "display_name": "Python 3 (ipykernel)",
   "language": "python",
   "name": "python3"
  },
  "language_info": {
   "codemirror_mode": {
    "name": "ipython",
    "version": 3
   },
   "file_extension": ".py",
   "mimetype": "text/x-python",
   "name": "python",
   "nbconvert_exporter": "python",
   "pygments_lexer": "ipython3",
   "version": "3.9.12"
  }
 },
 "nbformat": 4,
 "nbformat_minor": 4
}
